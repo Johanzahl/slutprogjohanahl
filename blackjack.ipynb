{
 "cells": [
  {
   "cell_type": "code",
   "execution_count": 9,
   "id": "f9882118",
   "metadata": {},
   "outputs": [],
   "source": [
    "import pandas as pd"
   ]
  },
  {
   "cell_type": "code",
   "execution_count": 10,
   "id": "24273643",
   "metadata": {},
   "outputs": [
    {
     "name": "stdout",
     "output_type": "stream",
     "text": [
      "   Unnamed: 0 PlayerNo  card1  card2  card3  card4  card5  sumofcards  \\\n",
      "0           0  Player1      7     10      0      0      0          17   \n",
      "1           1  Player2     10      9      0      0      0          19   \n",
      "2           2  Player3      9      8      0      0      0          17   \n",
      "3           3  Player4      2     10      0      5      0          17   \n",
      "4           4  Player5     10      2      0      5      0          17   \n",
      "\n",
      "   dealcard1  dealcard2  ...  dealcard4  dealcard5  sumofdeal  blkjck winloss  \\\n",
      "0         10          8  ...          0          0         18   nowin    Loss   \n",
      "1         10          8  ...          0          0         18   nowin     Win   \n",
      "2         10          8  ...          0          0         18   nowin    Loss   \n",
      "3         10          8  ...          0          0         18   nowin    Loss   \n",
      "4         10          8  ...          0          0         18   nowin    Loss   \n",
      "\n",
      "  plybustbeat dlbustbeat plwinamt  dlwinamt  ply2cardsum  \n",
      "0        Beat      Dlwin        0        10           17  \n",
      "1       Plwin       Beat       20         0           19  \n",
      "2        Beat      Dlwin        0        10           17  \n",
      "3        Beat      Dlwin        0        10           12  \n",
      "4        Beat      Dlwin        0        10           12  \n",
      "\n",
      "[5 rows x 21 columns]\n"
     ]
    }
   ],
   "source": [
    "df = pd.read_csv('C:/Users/johan.ahl/Desktop/prog1/slutprog/blkjckhands.csv')\n",
    "\n",
    "print(df.head())"
   ]
  },
  {
   "cell_type": "code",
   "execution_count": null,
   "id": "5478ccba",
   "metadata": {},
   "outputs": [],
   "source": []
  }
 ],
 "metadata": {
  "kernelspec": {
   "display_name": "Python 3 (ipykernel)",
   "language": "python",
   "name": "python3"
  },
  "language_info": {
   "codemirror_mode": {
    "name": "ipython",
    "version": 3
   },
   "file_extension": ".py",
   "mimetype": "text/x-python",
   "name": "python",
   "nbconvert_exporter": "python",
   "pygments_lexer": "ipython3",
   "version": "3.11.5"
  }
 },
 "nbformat": 4,
 "nbformat_minor": 5
}
